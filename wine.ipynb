{
  "nbformat": 4,
  "nbformat_minor": 0,
  "metadata": {
    "colab": {
      "name": "wine.ipynb",
      "provenance": [],
      "collapsed_sections": [],
      "authorship_tag": "ABX9TyN7HOfIxOIDsZbuitfHyKAM",
      "include_colab_link": true
    },
    "kernelspec": {
      "name": "python3",
      "display_name": "Python 3"
    }
  },
  "cells": [
    {
      "cell_type": "markdown",
      "metadata": {
        "id": "view-in-github",
        "colab_type": "text"
      },
      "source": [
        "<a href=\"https://colab.research.google.com/github/hadiroudsari/wine-detection/blob/master/wine.ipynb\" target=\"_parent\"><img src=\"https://colab.research.google.com/assets/colab-badge.svg\" alt=\"Open In Colab\"/></a>"
      ]
    },
    {
      "cell_type": "markdown",
      "metadata": {
        "id": "hUPRgfZxlyWD",
        "colab_type": "text"
      },
      "source": [
        "# Wine prediction\n",
        " this project is prepered for bigdata course project, I have done some task on this specific dataset such as wine prediction...\n",
        "\n",
        "\n",
        "---\n",
        "\n"
      ]
    },
    {
      "cell_type": "markdown",
      "metadata": {
        "id": "_OB01s3doGls",
        "colab_type": "text"
      },
      "source": [
        "here i load JDK 8 LTS\n",
        "\n",
        "\n",
        "---\n",
        "\n"
      ]
    },
    {
      "cell_type": "code",
      "metadata": {
        "id": "qoDZL72roQUF",
        "colab_type": "code",
        "colab": {}
      },
      "source": [
        "JAVA_HOME = \"/usr/lib/jvm/java-8-openjdk-amd64\" # Set path to JAVA_HOME\n"
      ],
      "execution_count": 1,
      "outputs": []
    },
    {
      "cell_type": "markdown",
      "metadata": {
        "id": "-QckDy6XobDT",
        "colab_type": "text"
      },
      "source": [
        "## **1.** Install PySpark and related dependencies"
      ]
    },
    {
      "cell_type": "code",
      "metadata": {
        "id": "05-AnQfJpTnu",
        "colab_type": "code",
        "colab": {
          "base_uri": "https://localhost:8080/",
          "height": 923
        },
        "outputId": "678765cc-b652-404d-bad6-e72eaf1fad0f"
      },
      "source": [
        "!pip install pyspark\n",
        "!pip install -U -q PyDrive\n",
        "!apt install openjdk-8-jdk-headless -qq\n",
        "import os\n",
        "os.environ[\"JAVA_HOME\"] = JAVA_HOME"
      ],
      "execution_count": 2,
      "outputs": [
        {
          "output_type": "stream",
          "text": [
            "Collecting pyspark\n",
            "\u001b[?25l  Downloading https://files.pythonhosted.org/packages/8e/b0/bf9020b56492281b9c9d8aae8f44ff51e1bc91b3ef5a884385cb4e389a40/pyspark-3.0.0.tar.gz (204.7MB)\n",
            "\u001b[K     |████████████████████████████████| 204.7MB 62kB/s \n",
            "\u001b[?25hCollecting py4j==0.10.9\n",
            "\u001b[?25l  Downloading https://files.pythonhosted.org/packages/9e/b6/6a4fb90cd235dc8e265a6a2067f2a2c99f0d91787f06aca4bcf7c23f3f80/py4j-0.10.9-py2.py3-none-any.whl (198kB)\n",
            "\u001b[K     |████████████████████████████████| 204kB 41.7MB/s \n",
            "\u001b[?25hBuilding wheels for collected packages: pyspark\n",
            "  Building wheel for pyspark (setup.py) ... \u001b[?25l\u001b[?25hdone\n",
            "  Created wheel for pyspark: filename=pyspark-3.0.0-py2.py3-none-any.whl size=205044182 sha256=aae5ff09c2a1cab8c45db3ca369c84f8ac8cfe533093e9ec648e1063497a2be8\n",
            "  Stored in directory: /root/.cache/pip/wheels/57/27/4d/ddacf7143f8d5b76c45c61ee2e43d9f8492fc5a8e78ebd7d37\n",
            "Successfully built pyspark\n",
            "Installing collected packages: py4j, pyspark\n",
            "Successfully installed py4j-0.10.9 pyspark-3.0.0\n",
            "The following package was automatically installed and is no longer required:\n",
            "  libnvidia-common-440\n",
            "Use 'apt autoremove' to remove it.\n",
            "The following additional packages will be installed:\n",
            "  openjdk-8-jre-headless\n",
            "Suggested packages:\n",
            "  openjdk-8-demo openjdk-8-source libnss-mdns fonts-dejavu-extra\n",
            "  fonts-ipafont-gothic fonts-ipafont-mincho fonts-wqy-microhei\n",
            "  fonts-wqy-zenhei fonts-indic\n",
            "The following NEW packages will be installed:\n",
            "  openjdk-8-jdk-headless openjdk-8-jre-headless\n",
            "0 upgraded, 2 newly installed, 0 to remove and 43 not upgraded.\n",
            "Need to get 35.8 MB of archives.\n",
            "After this operation, 140 MB of additional disk space will be used.\n",
            "Selecting previously unselected package openjdk-8-jre-headless:amd64.\n",
            "(Reading database ... 144328 files and directories currently installed.)\n",
            "Preparing to unpack .../openjdk-8-jre-headless_8u252-b09-1~18.04_amd64.deb ...\n",
            "Unpacking openjdk-8-jre-headless:amd64 (8u252-b09-1~18.04) ...\n",
            "Selecting previously unselected package openjdk-8-jdk-headless:amd64.\n",
            "Preparing to unpack .../openjdk-8-jdk-headless_8u252-b09-1~18.04_amd64.deb ...\n",
            "Unpacking openjdk-8-jdk-headless:amd64 (8u252-b09-1~18.04) ...\n",
            "Setting up openjdk-8-jre-headless:amd64 (8u252-b09-1~18.04) ...\n",
            "update-alternatives: using /usr/lib/jvm/java-8-openjdk-amd64/jre/bin/orbd to provide /usr/bin/orbd (orbd) in auto mode\n",
            "update-alternatives: using /usr/lib/jvm/java-8-openjdk-amd64/jre/bin/servertool to provide /usr/bin/servertool (servertool) in auto mode\n",
            "update-alternatives: using /usr/lib/jvm/java-8-openjdk-amd64/jre/bin/tnameserv to provide /usr/bin/tnameserv (tnameserv) in auto mode\n",
            "Setting up openjdk-8-jdk-headless:amd64 (8u252-b09-1~18.04) ...\n",
            "update-alternatives: using /usr/lib/jvm/java-8-openjdk-amd64/bin/idlj to provide /usr/bin/idlj (idlj) in auto mode\n",
            "update-alternatives: using /usr/lib/jvm/java-8-openjdk-amd64/bin/wsimport to provide /usr/bin/wsimport (wsimport) in auto mode\n",
            "update-alternatives: using /usr/lib/jvm/java-8-openjdk-amd64/bin/jsadebugd to provide /usr/bin/jsadebugd (jsadebugd) in auto mode\n",
            "update-alternatives: using /usr/lib/jvm/java-8-openjdk-amd64/bin/native2ascii to provide /usr/bin/native2ascii (native2ascii) in auto mode\n",
            "update-alternatives: using /usr/lib/jvm/java-8-openjdk-amd64/bin/javah to provide /usr/bin/javah (javah) in auto mode\n",
            "update-alternatives: using /usr/lib/jvm/java-8-openjdk-amd64/bin/clhsdb to provide /usr/bin/clhsdb (clhsdb) in auto mode\n",
            "update-alternatives: using /usr/lib/jvm/java-8-openjdk-amd64/bin/extcheck to provide /usr/bin/extcheck (extcheck) in auto mode\n",
            "update-alternatives: using /usr/lib/jvm/java-8-openjdk-amd64/bin/hsdb to provide /usr/bin/hsdb (hsdb) in auto mode\n",
            "update-alternatives: using /usr/lib/jvm/java-8-openjdk-amd64/bin/schemagen to provide /usr/bin/schemagen (schemagen) in auto mode\n",
            "update-alternatives: using /usr/lib/jvm/java-8-openjdk-amd64/bin/xjc to provide /usr/bin/xjc (xjc) in auto mode\n",
            "update-alternatives: using /usr/lib/jvm/java-8-openjdk-amd64/bin/jhat to provide /usr/bin/jhat (jhat) in auto mode\n",
            "update-alternatives: using /usr/lib/jvm/java-8-openjdk-amd64/bin/wsgen to provide /usr/bin/wsgen (wsgen) in auto mode\n"
          ],
          "name": "stdout"
        }
      ]
    },
    {
      "cell_type": "markdown",
      "metadata": {
        "id": "EmBc4ZP7Ob4F",
        "colab_type": "text"
      },
      "source": [
        "## **2.** Import useful PySpark packages *italicized text*"
      ]
    },
    {
      "cell_type": "code",
      "metadata": {
        "id": "mxh5saK_PE_F",
        "colab_type": "code",
        "colab": {}
      },
      "source": [
        "import requests\n",
        "import pandas as pd\n",
        "import numpy as np\n",
        "import matplotlib.pyplot as plt\n",
        "%matplotlib inline\n",
        "\n",
        "import pyspark\n",
        "from pyspark.sql import *\n",
        "from pyspark.sql.types import *\n",
        "from pyspark.sql.functions import *\n",
        "from pyspark import SparkContext, SparkConf"
      ],
      "execution_count": 3,
      "outputs": []
    },
    {
      "cell_type": "markdown",
      "metadata": {
        "id": "rt9S9qaNRJ2M",
        "colab_type": "text"
      },
      "source": [
        "\n",
        "\n",
        "# **3.** Create Spark context"
      ]
    },
    {
      "cell_type": "code",
      "metadata": {
        "id": "Vv_PApasRR0C",
        "colab_type": "code",
        "colab": {}
      },
      "source": [
        "# create the session\n",
        "conf = SparkConf().set(\"spark.ui.port\", \"4050\").set('spark.executor.memory', '4G').set('spark.driver.memory', '45G').set('spark.driver.maxResultSize', '10G')\n",
        "\n",
        "# create the context\n",
        "sc = pyspark.SparkContext(conf=conf)\n",
        "spark = SparkSession.builder.getOrCreate()"
      ],
      "execution_count": 4,
      "outputs": []
    },
    {
      "cell_type": "markdown",
      "metadata": {
        "id": "swjr24BPDOVq",
        "colab_type": "text"
      },
      "source": [
        "# **4.** Create <code>ngrok</code> tunnel to check the Spark UI"
      ]
    },
    {
      "cell_type": "code",
      "metadata": {
        "id": "CP5BIeqfDvSu",
        "colab_type": "code",
        "colab": {
          "base_uri": "https://localhost:8080/",
          "height": 295
        },
        "outputId": "41fd2f1f-13aa-450f-d661-2ecaa32341a5"
      },
      "source": [
        "!wget https://bin.equinox.io/c/4VmDzA7iaHb/ngrok-stable-linux-amd64.zip\n",
        "!unzip ngrok-stable-linux-amd64.zip\n",
        "get_ipython().system_raw('./ngrok http 4050 &')\n",
        "!curl -s http://localhost:4040/api/tunnels | python3 -c \\\n",
        "    \"import sys, json; print(json.load(sys.stdin)['tunnels'][0]['public_url'])\""
      ],
      "execution_count": 5,
      "outputs": [
        {
          "output_type": "stream",
          "text": [
            "--2020-06-16 22:36:12--  https://bin.equinox.io/c/4VmDzA7iaHb/ngrok-stable-linux-amd64.zip\n",
            "Resolving bin.equinox.io (bin.equinox.io)... 34.231.196.161, 54.152.45.100, 3.223.249.113, ...\n",
            "Connecting to bin.equinox.io (bin.equinox.io)|34.231.196.161|:443... connected.\n",
            "HTTP request sent, awaiting response... 200 OK\n",
            "Length: 13773305 (13M) [application/octet-stream]\n",
            "Saving to: ‘ngrok-stable-linux-amd64.zip’\n",
            "\n",
            "ngrok-stable-linux- 100%[===================>]  13.13M  6.53MB/s    in 2.0s    \n",
            "\n",
            "2020-06-16 22:36:15 (6.53 MB/s) - ‘ngrok-stable-linux-amd64.zip’ saved [13773305/13773305]\n",
            "\n",
            "Archive:  ngrok-stable-linux-amd64.zip\n",
            "  inflating: ngrok                   \n",
            "Traceback (most recent call last):\n",
            "  File \"<string>\", line 1, in <module>\n",
            "IndexError: list index out of range\n"
          ],
          "name": "stdout"
        }
      ]
    },
    {
      "cell_type": "code",
      "metadata": {
        "id": "tCaz_DltEKdg",
        "colab_type": "code",
        "colab": {
          "base_uri": "https://localhost:8080/",
          "height": 219
        },
        "outputId": "99dc0170-f099-4a02-b67c-e573efe14c9f"
      },
      "source": [
        "spark"
      ],
      "execution_count": 6,
      "outputs": [
        {
          "output_type": "execute_result",
          "data": {
            "text/html": [
              "\n",
              "            <div>\n",
              "                <p><b>SparkSession - in-memory</b></p>\n",
              "                \n",
              "        <div>\n",
              "            <p><b>SparkContext</b></p>\n",
              "\n",
              "            <p><a href=\"http://369d245080c1:4050\">Spark UI</a></p>\n",
              "\n",
              "            <dl>\n",
              "              <dt>Version</dt>\n",
              "                <dd><code>v3.0.0</code></dd>\n",
              "              <dt>Master</dt>\n",
              "                <dd><code>local[*]</code></dd>\n",
              "              <dt>AppName</dt>\n",
              "                <dd><code>pyspark-shell</code></dd>\n",
              "            </dl>\n",
              "        </div>\n",
              "        \n",
              "            </div>\n",
              "        "
            ],
            "text/plain": [
              "<pyspark.sql.session.SparkSession at 0x7efd08b7d0f0>"
            ]
          },
          "metadata": {
            "tags": []
          },
          "execution_count": 6
        }
      ]
    },
    {
      "cell_type": "code",
      "metadata": {
        "id": "RwKEiYgjOUCW",
        "colab_type": "code",
        "colab": {
          "base_uri": "https://localhost:8080/",
          "height": 278
        },
        "outputId": "12cefd0f-c8a7-453d-f9d7-dfcfffd41bf1"
      },
      "source": [
        "sc._conf.getAll()"
      ],
      "execution_count": 7,
      "outputs": [
        {
          "output_type": "execute_result",
          "data": {
            "text/plain": [
              "[('spark.driver.memory', '45G'),\n",
              " ('spark.executor.id', 'driver'),\n",
              " ('spark.driver.port', '39355'),\n",
              " ('spark.driver.maxResultSize', '10G'),\n",
              " ('spark.app.name', 'pyspark-shell'),\n",
              " ('spark.ui.port', '4050'),\n",
              " ('spark.driver.host', '369d245080c1'),\n",
              " ('spark.rdd.compress', 'True'),\n",
              " ('spark.serializer.objectStreamReset', '100'),\n",
              " ('spark.master', 'local[*]'),\n",
              " ('spark.submit.pyFiles', ''),\n",
              " ('spark.submit.deployMode', 'client'),\n",
              " ('spark.app.id', 'local-1592346966691'),\n",
              " ('spark.executor.memory', '4G'),\n",
              " ('spark.ui.showConsoleProgress', 'true')]"
            ]
          },
          "metadata": {
            "tags": []
          },
          "execution_count": 7
        }
      ]
    },
    {
      "cell_type": "code",
      "metadata": {
        "id": "Pb48vfpJOjo8",
        "colab_type": "code",
        "colab": {
          "base_uri": "https://localhost:8080/",
          "height": 124
        },
        "outputId": "672255ef-27e3-4f1c-d474-783415f02665"
      },
      "source": [
        "from google.colab import drive\n",
        "drive.mount('/content/drive')"
      ],
      "execution_count": 8,
      "outputs": [
        {
          "output_type": "stream",
          "text": [
            "Go to this URL in a browser: https://accounts.google.com/o/oauth2/auth?client_id=947318989803-6bn6qk8qdgf4n4g3pfee6491hc0brc4i.apps.googleusercontent.com&redirect_uri=urn%3aietf%3awg%3aoauth%3a2.0%3aoob&response_type=code&scope=email%20https%3a%2f%2fwww.googleapis.com%2fauth%2fdocs.test%20https%3a%2f%2fwww.googleapis.com%2fauth%2fdrive%20https%3a%2f%2fwww.googleapis.com%2fauth%2fdrive.photos.readonly%20https%3a%2f%2fwww.googleapis.com%2fauth%2fpeopleapi.readonly\n",
            "\n",
            "Enter your authorization code:\n",
            "··········\n",
            "Mounted at /content/drive\n"
          ],
          "name": "stdout"
        }
      ]
    },
    {
      "cell_type": "markdown",
      "metadata": {
        "id": "yVoMBEE7O6Yi",
        "colab_type": "text"
      },
      "source": [
        "## **1. Link Google Colab to our Google Drive**"
      ]
    },
    {
      "cell_type": "code",
      "metadata": {
        "id": "gBGkZlTzO77S",
        "colab_type": "code",
        "colab": {}
      },
      "source": [
        "GDRIVE_DIR = \"/content/gdrive\" # Your own mount point on Google Drive\n",
        "GDRIVE_HOME_DIR = GDRIVE_DIR + \"/My Drive\" # Your own home directory\n",
        "GDRIVE_DATA_DIR = GDRIVE_HOME_DIR + \"/1898985/dataSet\" # Your own data directory"
      ],
      "execution_count": 11,
      "outputs": []
    },
    {
      "cell_type": "markdown",
      "metadata": {
        "id": "rUYJnEA-Rp8b",
        "colab_type": "text"
      },
      "source": [
        ""
      ]
    },
    {
      "cell_type": "markdown",
      "metadata": {
        "id": "cmrL0RVPj1E-",
        "colab_type": "text"
      },
      "source": [
        "## **1. Link Google Colab to our Google Drive**"
      ]
    },
    {
      "cell_type": "code",
      "metadata": {
        "id": "41tfSAQTjlbr",
        "colab_type": "code",
        "colab": {
          "base_uri": "https://localhost:8080/",
          "height": 34
        },
        "outputId": "bd7382fe-414e-4809-bee0-bec7fb02103b"
      },
      "source": [
        "# Point Colaboratory to our Google Drive\n",
        "from google.colab import drive\n",
        "\n",
        "drive.mount(GDRIVE_DIR, force_remount=True)"
      ],
      "execution_count": 12,
      "outputs": [
        {
          "output_type": "stream",
          "text": [
            "Mounted at /content/gdrive\n"
          ],
          "name": "stdout"
        }
      ]
    },
    {
      "cell_type": "markdown",
      "metadata": {
        "id": "EuhblJO3j2dy",
        "colab_type": "text"
      },
      "source": [
        "## **2. Data Acquisition**"
      ]
    },
    {
      "cell_type": "markdown",
      "metadata": {
        "id": "nFeWuklPlOaU",
        "colab_type": "text"
      },
      "source": [
        "### **Download dataset file from URL directly to our Google Drive**"
      ]
    },
    {
      "cell_type": "markdown",
      "metadata": {
        "id": "RnTyf7YOlYl5",
        "colab_type": "text"
      },
      "source": [
        "### **Read dataset file into a Spark Dataframe**\n"
      ]
    },
    {
      "cell_type": "code",
      "metadata": {
        "id": "bEEY66sblZbY",
        "colab_type": "code",
        "colab": {}
      },
      "source": [
        "wine_df = spark.read.load(GDRIVE_DATA_DIR, \n",
        "                           format=\"csv\", \n",
        "                           sep=\",\", \n",
        "                           inferSchema=\"true\", \n",
        "                           header=\"true\")"
      ],
      "execution_count": 14,
      "outputs": []
    },
    {
      "cell_type": "markdown",
      "metadata": {
        "id": "_wy4Msc1mMNq",
        "colab_type": "text"
      },
      "source": [
        "### **Display the first <code>n=5</code> rows of the loaded dataset**"
      ]
    },
    {
      "cell_type": "code",
      "metadata": {
        "id": "GaVWscgdXAH6",
        "colab_type": "code",
        "colab": {
          "base_uri": "https://localhost:8080/",
          "height": 34
        },
        "outputId": "285ae07e-1ee3-4dd4-8ccf-beef0e80a73b"
      },
      "source": [
        "print(\"The shape of the dataset is {:d} rows by {:d} columns\".format(wine_df.count(), len(wine_df.columns)))"
      ],
      "execution_count": 17,
      "outputs": [
        {
          "output_type": "stream",
          "text": [
            "The shape of the dataset is 129975 rows by 14 columns\n"
          ],
          "name": "stdout"
        }
      ]
    },
    {
      "cell_type": "code",
      "metadata": {
        "id": "fqsHMfE_XQYD",
        "colab_type": "code",
        "colab": {
          "base_uri": "https://localhost:8080/",
          "height": 295
        },
        "outputId": "6507dafe-17ee-4718-9aa7-0e38a872f0e3"
      },
      "source": [
        "wine_df.printSchema()"
      ],
      "execution_count": 18,
      "outputs": [
        {
          "output_type": "stream",
          "text": [
            "root\n",
            " |-- _c0: string (nullable = true)\n",
            " |-- country: string (nullable = true)\n",
            " |-- description: string (nullable = true)\n",
            " |-- designation: string (nullable = true)\n",
            " |-- points: string (nullable = true)\n",
            " |-- price: string (nullable = true)\n",
            " |-- province: string (nullable = true)\n",
            " |-- region_1: string (nullable = true)\n",
            " |-- region_2: string (nullable = true)\n",
            " |-- taster_name: string (nullable = true)\n",
            " |-- taster_twitter_handle: string (nullable = true)\n",
            " |-- title: string (nullable = true)\n",
            " |-- variety: string (nullable = true)\n",
            " |-- winery: string (nullable = true)\n",
            "\n"
          ],
          "name": "stdout"
        }
      ]
    },
    {
      "cell_type": "code",
      "metadata": {
        "id": "nX480u8BmNdf",
        "colab_type": "code",
        "colab": {
          "base_uri": "https://localhost:8080/",
          "height": 315
        },
        "outputId": "5b8a4b2d-cd9d-4935-ee92-418b2d2b28f1"
      },
      "source": [
        "wine_df.show(n=10, truncate=False)"
      ],
      "execution_count": 15,
      "outputs": [
        {
          "output_type": "stream",
          "text": [
            "+---+--------+---------------------------------------------------------------------------------------------------------------------------------------------------------------------------------------------------------------------------------------------------------------------+----------------------------------+------+-----+-----------------+-------------------+-----------------+------------------+---------------------+-----------------------------------------------------------------------------------+------------------+-------------------+\n",
            "|_c0|country |description                                                                                                                                                                                                                                                          |designation                       |points|price|province         |region_1           |region_2         |taster_name       |taster_twitter_handle|title                                                                              |variety           |winery             |\n",
            "+---+--------+---------------------------------------------------------------------------------------------------------------------------------------------------------------------------------------------------------------------------------------------------------------------+----------------------------------+------+-----+-----------------+-------------------+-----------------+------------------+---------------------+-----------------------------------------------------------------------------------+------------------+-------------------+\n",
            "|0  |Italy   |Aromas include tropical fruit, broom, brimstone and dried herb. The palate isn't overly expressive, offering unripened apple, citrus and dried sage alongside brisk acidity.                                                                                         |Vulkà Bianco                      |87    |null |Sicily & Sardinia|Etna               |null             |Kerin O’Keefe     |@kerinokeefe         |Nicosia 2013 Vulkà Bianco  (Etna)                                                  |White Blend       |Nicosia            |\n",
            "|1  |Portugal|This is ripe and fruity, a wine that is smooth while still structured. Firm tannins are filled out with juicy red berry fruits and freshened with acidity. It's  already drinkable, although it will certainly be better from 2016.                                  |Avidagos                          |87    |15.0 |Douro            |null               |null             |Roger Voss        |@vossroger           |Quinta dos Avidagos 2011 Avidagos Red (Douro)                                      |Portuguese Red    |Quinta dos Avidagos|\n",
            "|2  |US      |Tart and snappy, the flavors of lime flesh and rind dominate. Some green pineapple pokes through, with crisp acidity underscoring the flavors. The wine was all stainless-steel fermented.                                                                           |null                              |87    |14.0 |Oregon           |Willamette Valley  |Willamette Valley|Paul Gregutt      |@paulgwine           |Rainstorm 2013 Pinot Gris (Willamette Valley)                                      |Pinot Gris        |Rainstorm          |\n",
            "|3  |US      |Pineapple rind, lemon pith and orange blossom start off the aromas. The palate is a bit more opulent, with notes of honey-drizzled guava and mango giving way to a slightly astringent, semidry finish.                                                              |Reserve Late Harvest              |87    |13.0 |Michigan         |Lake Michigan Shore|null             |Alexander Peartree|null                 |St. Julian 2013 Reserve Late Harvest Riesling (Lake Michigan Shore)                |Riesling          |St. Julian         |\n",
            "|4  |US      |Much like the regular bottling from 2012, this comes across as rather rough and tannic, with rustic, earthy, herbal characteristics. Nonetheless, if you think of it as a pleasantly unfussy country wine, it's a good companion to a hearty winter stew.            |Vintner's Reserve Wild Child Block|87    |65.0 |Oregon           |Willamette Valley  |Willamette Valley|Paul Gregutt      |@paulgwine           |Sweet Cheeks 2012 Vintner's Reserve Wild Child Block Pinot Noir (Willamette Valley)|Pinot Noir        |Sweet Cheeks       |\n",
            "|5  |Spain   |Blackberry and raspberry aromas show a typical Navarran whiff of green herbs and, in this case, horseradish. In the mouth, this is fairly full bodied, with tomatoey acidity. Spicy, herbal flavors complement dark plum fruit, while the finish is fresh but grabby.|Ars In Vitro                      |87    |15.0 |Northern Spain   |Navarra            |null             |Michael Schachner |@wineschach          |Tandem 2011 Ars In Vitro Tempranillo-Merlot (Navarra)                              |Tempranillo-Merlot|Tandem             |\n",
            "|6  |Italy   |Here's a bright, informal red that opens with aromas of candied berry, white pepper and savory herb that carry over to the palate. It's balanced with fresh acidity and soft tannins.                                                                                |Belsito                           |87    |16.0 |Sicily & Sardinia|Vittoria           |null             |Kerin O’Keefe     |@kerinokeefe         |Terre di Giurfo 2013 Belsito Frappato (Vittoria)                                   |Frappato          |Terre di Giurfo    |\n",
            "|7  |France  |This dry and restrained wine offers spice in profusion. Balanced with acidity and a firm texture, it's very much for food.                                                                                                                                           |null                              |87    |24.0 |Alsace           |Alsace             |null             |Roger Voss        |@vossroger           |Trimbach 2012 Gewurztraminer (Alsace)                                              |Gewürztraminer    |Trimbach           |\n",
            "|8  |Germany |Savory dried thyme notes accent sunnier flavors of preserved peach in this brisk, off-dry wine. It's fruity and fresh, with an elegant, sprightly footprint.                                                                                                         |Shine                             |87    |12.0 |Rheinhessen      |null               |null             |Anna Lee C. Iijima|null                 |Heinz Eifel 2013 Shine Gewürztraminer (Rheinhessen)                                |Gewürztraminer    |Heinz Eifel        |\n",
            "|9  |France  |This has great depth of flavor with its fresh apple and pear fruits and touch of spice. It's off dry while balanced with acidity and a crisp texture. Drink now.                                                                                                     |Les Natures                       |87    |27.0 |Alsace           |Alsace             |null             |Roger Voss        |@vossroger           |Jean-Baptiste Adam 2012 Les Natures Pinot Gris (Alsace)                            |Pinot Gris        |Jean-Baptiste Adam |\n",
            "+---+--------+---------------------------------------------------------------------------------------------------------------------------------------------------------------------------------------------------------------------------------------------------------------------+----------------------------------+------+-----+-----------------+-------------------+-----------------+------------------+---------------------+-----------------------------------------------------------------------------------+------------------+-------------------+\n",
            "only showing top 10 rows\n",
            "\n"
          ],
          "name": "stdout"
        }
      ]
    },
    {
      "cell_type": "markdown",
      "metadata": {
        "id": "lYXFUvhXSlAd",
        "colab_type": "text"
      },
      "source": [
        "# **Cleaing the data set**"
      ]
    },
    {
      "cell_type": "markdown",
      "metadata": {
        "id": "sXw_1Q77ZSVx",
        "colab_type": "text"
      },
      "source": [
        "Count the number of duplicated description (if any)"
      ]
    },
    {
      "cell_type": "code",
      "metadata": {
        "id": "TUhqqBauW0x9",
        "colab_type": "code",
        "colab": {
          "base_uri": "https://localhost:8080/",
          "height": 34
        },
        "outputId": "8a6b9852-0b86-4cdd-d42f-501d8f529f45"
      },
      "source": [
        "print(\"The total number of duplicated description are {:d} out of {:d}\".\n",
        "      format(wine_df.count() - wine_df.dropDuplicates(['description']).count(), wine_df.count()))"
      ],
      "execution_count": 19,
      "outputs": [
        {
          "output_type": "stream",
          "text": [
            "The total number of duplicated description are 10016 out of 129975\n"
          ],
          "name": "stdout"
        }
      ]
    },
    {
      "cell_type": "code",
      "metadata": {
        "id": "AKJ1-3IGYpdj",
        "colab_type": "code",
        "colab": {
          "base_uri": "https://localhost:8080/",
          "height": 315
        },
        "outputId": "89a03dff-2690-4215-8171-ffa7549dce54"
      },
      "source": [
        "wine_df.groupby([\"description\"]).count().sort(\"count\", ascending=False).show(10,truncate=False)"
      ],
      "execution_count": 22,
      "outputs": [
        {
          "output_type": "stream",
          "text": [
            "+-------------------------------------------------------------------------------------------------------------------------------------------------------------------------------------------------------------------------------------------------------------------------------------------------------------+-----+\n",
            "|description                                                                                                                                                                                                                                                                                                  |count|\n",
            "+-------------------------------------------------------------------------------------------------------------------------------------------------------------------------------------------------------------------------------------------------------------------------------------------------------------+-----+\n",
            "|Stalky aromas suggest hay and green herbs, with raspberry in the backdrop. It's hot and short in terms of mouthfeel, with herbal flavors leading the way and berry fruit running behind. Dry red fruit and herbal notes dominate the finish.                                                                 |3    |\n",
            "|Gravenstein apple, honeysuckle and jasmine aromas show on the relatively boisterous nose of this bottling from a large vineyard on Highway 46 east of Paso Robles. There is compellingly grippy texture to the sip, with ripe flavors of pear and honeydew melon. A salty acidity takes it to the next level.|3    |\n",
            "|Ripe plum, game, truffle, leather and menthol are some of the aromas you'll find on this earthy wine. The tightly wound palate offers dried black cherry, chopped sage, mint and roasted coffee bean alongside raspy tannins that leave a mouth-drying finish.                                               |3    |\n",
            "|This zesty red has pretty aromas that suggest small red berry, blue flower and a whiff of moist soil. The vibrant palate offers sour cherry, pomegranate and a hint of anise alongside zesty acidity and refined tannins.                                                                                    |3    |\n",
            "|Seductively tart in lemon pith, cranberry and pomegranate, this refreshing, light-bodied quaff is infinitely enjoyable, both on its own or at the table. It continues to expand on the palate into an increasing array of fresh flavors, finishing in cherry and orange.                                     |3    |\n",
            "|Cigar box, café au lait, and dried tobacco aromas are followed by coffee and cherry flavors, with barrel spices lingering on the finish. The wood gets a bit out front but it still delivers enjoyment.                                                                                                      |3    |\n",
            "|Anchored in fig, plum and berry fruit, this is a substantial effort for both the vintage and the price. It will show best with hearty, cold-weather dishes. Hints of cinnamon and chocolate extend the finish.                                                                                               |2    |\n",
            "|This producer's style is for rich wines and this is no exception. With its depth of fruit and ripe apples and lemon, it is both crisp and full. The wine has some wood aging not for the flavor, more for the open effect. Drink the wine now.                                                               |2    |\n",
            "|Condensed dark cherry and plum meet some savory elements on the nose. Silky on entry, with prickling acidity, the medium-bodied palate boasts juicy black-fruit flavors and red-currant acidity. There's enough tannic structure and fruit here to pair alongside hearty grilled fare.                       |2    |\n",
            "|Cherry blossom and wild berries show on the nose of this appellation blend by a longtime boutique producer, who flies far under the radar even within the region. The palate shows plum skin, tart dark berry and barely ripe red-currant flavors, along with ground espresso, juniper and sandalwood.       |2    |\n",
            "+-------------------------------------------------------------------------------------------------------------------------------------------------------------------------------------------------------------------------------------------------------------------------------------------------------------+-----+\n",
            "only showing top 10 rows\n",
            "\n"
          ],
          "name": "stdout"
        }
      ]
    },
    {
      "cell_type": "markdown",
      "metadata": {
        "id": "iH4vgUAWaASX",
        "colab_type": "text"
      },
      "source": [
        "### **Remove duplicate description**"
      ]
    },
    {
      "cell_type": "code",
      "metadata": {
        "id": "iCe0mz0DaKwC",
        "colab_type": "code",
        "colab": {}
      },
      "source": [
        "wine_df = wine_df.dropDuplicates([\"description\"])"
      ],
      "execution_count": 24,
      "outputs": []
    },
    {
      "cell_type": "code",
      "metadata": {
        "id": "xT4VHkwAaRc3",
        "colab_type": "code",
        "colab": {
          "base_uri": "https://localhost:8080/",
          "height": 34
        },
        "outputId": "50da0e10-be7d-42b2-8bcd-8d6265dc52d9"
      },
      "source": [
        "print(\"The total number of unique description is: {:d}\".format(wine_df.count()))"
      ],
      "execution_count": 25,
      "outputs": [
        {
          "output_type": "stream",
          "text": [
            "The total number of unique description is: 119959\n"
          ],
          "name": "stdout"
        }
      ]
    },
    {
      "cell_type": "markdown",
      "metadata": {
        "id": "TXLeqKa7atj-",
        "colab_type": "text"
      },
      "source": [
        "### Check for any missing value (i.e., <code>NULL</code>) along <code>description</code> column  and "
      ]
    },
    {
      "cell_type": "code",
      "metadata": {
        "id": "yQgPSOEEdgWM",
        "colab_type": "code",
        "colab": {
          "base_uri": "https://localhost:8080/",
          "height": 34
        },
        "outputId": "5afff635-ace9-4be3-847d-9fc07d526c10"
      },
      "source": [
        "wine_df.where(col(\"description\").isNull()).count()"
      ],
      "execution_count": 27,
      "outputs": [
        {
          "output_type": "execute_result",
          "data": {
            "text/plain": [
              "1"
            ]
          },
          "metadata": {
            "tags": []
          },
          "execution_count": 27
        }
      ]
    },
    {
      "cell_type": "code",
      "metadata": {
        "id": "mpqS4FUXdsqe",
        "colab_type": "code",
        "colab": {
          "base_uri": "https://localhost:8080/",
          "height": 34
        },
        "outputId": "e8b87f00-6981-4bcb-cd2f-972e07ecc094"
      },
      "source": [
        "wine_df.where(col(\"variety\").isNull()).count()"
      ],
      "execution_count": 28,
      "outputs": [
        {
          "output_type": "execute_result",
          "data": {
            "text/plain": [
              "11"
            ]
          },
          "metadata": {
            "tags": []
          },
          "execution_count": 28
        }
      ]
    },
    {
      "cell_type": "markdown",
      "metadata": {
        "id": "Uv4Tb_GOeptn",
        "colab_type": "text"
      },
      "source": [
        "### Removing the rows that have null description and variety"
      ]
    },
    {
      "cell_type": "code",
      "metadata": {
        "id": "f8PNy0mSeoLl",
        "colab_type": "code",
        "colab": {}
      },
      "source": [
        "wine_df = wine_df.na.drop(subset=[\"variety\"])"
      ],
      "execution_count": 31,
      "outputs": []
    },
    {
      "cell_type": "code",
      "metadata": {
        "id": "Q8ONZrUNfvd2",
        "colab_type": "code",
        "colab": {
          "base_uri": "https://localhost:8080/",
          "height": 34
        },
        "outputId": "de233b69-63b5-457b-9d4f-90e6285cbde6"
      },
      "source": [
        "wine_df.where(col(\"variety\").isNull()).count()"
      ],
      "execution_count": 32,
      "outputs": [
        {
          "output_type": "execute_result",
          "data": {
            "text/plain": [
              "0"
            ]
          },
          "metadata": {
            "tags": []
          },
          "execution_count": 32
        }
      ]
    },
    {
      "cell_type": "code",
      "metadata": {
        "id": "Ddqloxxxfy2w",
        "colab_type": "code",
        "colab": {}
      },
      "source": [
        "wine_df = wine_df.na.drop(subset=[\"description\"])"
      ],
      "execution_count": 33,
      "outputs": []
    },
    {
      "cell_type": "code",
      "metadata": {
        "id": "CrSoQG8Kf5pg",
        "colab_type": "code",
        "colab": {
          "base_uri": "https://localhost:8080/",
          "height": 34
        },
        "outputId": "80a1a2d1-07e5-4644-b1be-34b65342eac3"
      },
      "source": [
        "wine_df.where(col(\"description\").isNull()).count()"
      ],
      "execution_count": 34,
      "outputs": [
        {
          "output_type": "execute_result",
          "data": {
            "text/plain": [
              "0"
            ]
          },
          "metadata": {
            "tags": []
          },
          "execution_count": 34
        }
      ]
    },
    {
      "cell_type": "code",
      "metadata": {
        "id": "ksFSH1tagCPO",
        "colab_type": "code",
        "colab": {
          "base_uri": "https://localhost:8080/",
          "height": 34
        },
        "outputId": "92eedec6-eed3-4ac9-dc8b-a40c453263bf"
      },
      "source": [
        "print(\"The total number of unique description is: {:d}\".format(wine_df.count()))"
      ],
      "execution_count": 35,
      "outputs": [
        {
          "output_type": "stream",
          "text": [
            "The total number of unique description is: 119947\n"
          ],
          "name": "stdout"
        }
      ]
    }
  ]
}